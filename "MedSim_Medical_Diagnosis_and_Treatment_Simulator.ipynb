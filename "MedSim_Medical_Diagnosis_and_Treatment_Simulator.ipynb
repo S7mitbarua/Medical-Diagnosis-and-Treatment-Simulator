{
  "nbformat": 4,
  "nbformat_minor": 0,
  "metadata": {
    "colab": {
      "provenance": [],
      "authorship_tag": "ABX9TyMKelGEqI5QDRCVxekvlZCJ",
      "include_colab_link": true
    },
    "kernelspec": {
      "name": "python3",
      "display_name": "Python 3"
    },
    "language_info": {
      "name": "python"
    }
  },
  "cells": [
    {
      "cell_type": "markdown",
      "metadata": {
        "id": "view-in-github",
        "colab_type": "text"
      },
      "source": [
        "<a href=\"https://colab.research.google.com/github/S7mitbarua/Medical-Diagnosis-and-Treatment-Simulator/blob/main/%22MedSim_Medical_Diagnosis_and_Treatment_Simulator.ipynb\" target=\"_parent\"><img src=\"https://colab.research.google.com/assets/colab-badge.svg\" alt=\"Open In Colab\"/></a>"
      ]
    },
    {
      "cell_type": "code",
      "source": [
        "import random\n",
        "import time\n",
        "\n",
        "# Define medical conditions, corresponding symptoms, and treatment options\n",
        "conditions = {\n",
        "    \"Common Cold\": {\"symptoms\": [\"runny nose\", \"sore throat\", \"cough\"], \"treatment\": \"rest and fluids\"},\n",
        "    \"Flu\": {\"symptoms\": [\"fever\", \"body aches\", \"fatigue\", \"cough\"], \"treatment\": \"antiviral medication\"},\n",
        "    \"Food Poisoning\": {\"symptoms\": [\"nausea\", \"vomiting\", \"diarrhea\"], \"treatment\": \"fluids and rest\"},\n",
        "    \"Suicide\": {\"symptoms\": [\"persistent sadness\", \"hopelessness\", \"withdrawal from social activities\"], \"treatment\": \"therapy and medication\"},\n",
        "    \"COVID-19\": {\"symptoms\": [\"fever\", \"cough\", \"shortness of breath\", \"loss of taste or smell\"], \"treatment\": \"supportive care and isolation\"},\n",
        "    \"RSV\": {\"symptoms\": [\"cough\", \"wheezing\", \"difficulty breathing\", \"fever\"], \"treatment\": \"supportive care and oxygen therapy\"},\n",
        "    # Add more conditions, symptoms, and treatments as needed\n",
        "}\n",
        "\n",
        "# Function to generate a random patient case\n",
        "def generate_patient_case():\n",
        "    condition = random.choice(list(conditions.keys()))\n",
        "    symptoms = conditions[condition][\"symptoms\"]\n",
        "    return condition, symptoms\n",
        "\n",
        "# Function to simulate the diagnosis and treatment process\n",
        "def play_game():\n",
        "    print(\"Welcome to the Medical Simulation Game!\")\n",
        "    score = 0\n",
        "    total_cases = 0\n",
        "    while True:\n",
        "        total_cases += 1\n",
        "        condition, symptoms = generate_patient_case()\n",
        "        print(\"Patient presents with symptoms:\", symptoms)\n",
        "        start_time = time.time()\n",
        "        guess = input(\"What is your diagnosis? \")\n",
        "        end_time = time.time()\n",
        "        time_taken = end_time - start_time\n",
        "        if guess.lower() == condition.lower():\n",
        "            print(\"Correct diagnosis!\")\n",
        "            score += 1\n",
        "            # Give additional points for quick diagnosis\n",
        "            if time_taken < 10:\n",
        "                score += 1\n",
        "        else:\n",
        "            print(\"Incorrect diagnosis. The correct diagnosis is:\", condition)\n",
        "        # Display treatment option\n",
        "        print(\"Treatment for\", condition, \"is:\", conditions[condition][\"treatment\"])\n",
        "        print(\"Your current score is:\", score)\n",
        "        play_again = input(\"Do you want to see another patient? (yes/no) \")\n",
        "        if play_again.lower() != \"yes\":\n",
        "            break\n",
        "    print(\"Thanks for playing! Your final score is:\", score, \"out of\", total_cases)\n",
        "\n",
        "# Start the game\n",
        "play_game()"
      ],
      "metadata": {
        "colab": {
          "base_uri": "https://localhost:8080/"
        },
        "id": "yqziC9wrhlku",
        "outputId": "5f80a3c6-f67e-47bf-c4fe-453f52fc2b56"
      },
      "execution_count": null,
      "outputs": [
        {
          "output_type": "stream",
          "name": "stdout",
          "text": [
            "Welcome to the Medical Simulation Game!\n",
            "Patient presents with symptoms: ['cough', 'wheezing', 'difficulty breathing', 'fever']\n"
          ]
        }
      ]
    }
  ]
}